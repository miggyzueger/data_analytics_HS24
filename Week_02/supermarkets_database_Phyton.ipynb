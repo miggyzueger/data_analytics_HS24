{
 "cells": [
  {
   "cell_type": "markdown",
   "id": "spectacular-oxford",
   "metadata": {},
   "source": [
    "# Writing data to and reading data from a Database using Python"
   ]
  },
  {
   "cell_type": "markdown",
   "id": "14d7fbf5",
   "metadata": {},
   "source": [
    "## Libraries and settings"
   ]
  },
  {
   "cell_type": "code",
   "execution_count": 2,
   "id": "6b7c9af0",
   "metadata": {},
   "outputs": [
    {
     "name": "stdout",
     "output_type": "stream",
     "text": [
      "/workspaces/data_analytics_HS24/Week_02\n"
     ]
    }
   ],
   "source": [
    "# Libraries\n",
    "import os\n",
    "import sqlite3\n",
    "import fnmatch\n",
    "import numpy as np\n",
    "import pandas as pd\n",
    "import matplotlib.pyplot as plt\n",
    "\n",
    "# Ignore warnings\n",
    "import warnings\n",
    "warnings.filterwarnings(\"ignore\")\n",
    "\n",
    "# Function to close a sqlite db-connection\n",
    "def check_conn(conn):\n",
    "     try:\n",
    "        conn.cursor()\n",
    "        return True\n",
    "     except Exception as ex:\n",
    "        return False\n",
    "\n",
    "# Get current working directory\n",
    "print(os.getcwd())"
   ]
  },
  {
   "cell_type": "markdown",
   "id": "0b880d4d",
   "metadata": {},
   "source": [
    "## Create sqlite data base"
   ]
  },
  {
   "cell_type": "code",
   "execution_count": 3,
   "id": "240f7517",
   "metadata": {},
   "outputs": [
    {
     "name": "stdout",
     "output_type": "stream",
     "text": [
      "apartment_database.db\n",
      "supermarket_database.db\n"
     ]
    }
   ],
   "source": [
    "# Create data base\n",
    "conn = sqlite3.connect('supermarket_database.db') \n",
    "cursor = conn.cursor()\n",
    "\n",
    "# Show dbs in the directory\n",
    "flist = fnmatch.filter(os.listdir('.'), '*.db')\n",
    "for i in flist:\n",
    "    print(i)"
   ]
  },
  {
   "cell_type": "markdown",
   "id": "aff97772",
   "metadata": {},
   "source": [
    "## Create SQL-table in the database"
   ]
  },
  {
   "cell_type": "code",
   "execution_count": 4,
   "id": "a3d83cba",
   "metadata": {},
   "outputs": [],
   "source": [
    "# create table for the following columns: type,id,lat,lon,brand,shop,city,street,housenumber,postcode,opening_hours\n",
    "cursor.execute('''CREATE TABLE IF NOT EXISTS supermarkets_table (Type VARCHAR(50),\n",
    "                                                                 Id VARCHAR(50),\n",
    "                                                                 Lat DECIMAL(8,2),\n",
    "                                                                 Lon DECIMAL(8,2),\n",
    "                                                                 Brand VARCHAR(50),\n",
    "                                                                 Shop VARCHAR(50),\n",
    "                                                                 City VARCHAR(50),\n",
    "                                                                 Street VARCHAR(50),\n",
    "                                                                 Housenumber VARCHAR(50),\n",
    "                                                                 Postcode VARCHAR(50),\n",
    "                                                                 Opening_hours VARCHAR(50))''')\n",
    "# Confirm changes to the table\n",
    "conn.commit()\n"
   ]
  },
  {
   "cell_type": "markdown",
   "id": "a87c8dee",
   "metadata": {},
   "source": [
    "## Read data from file to data frame"
   ]
  },
  {
   "cell_type": "code",
   "execution_count": 16,
   "id": "34300bd6",
   "metadata": {},
   "outputs": [
    {
     "name": "stdout",
     "output_type": "stream",
     "text": [
      "(3392, 11)\n"
     ]
    },
    {
     "data": {
      "text/html": [
       "<div>\n",
       "<style scoped>\n",
       "    .dataframe tbody tr th:only-of-type {\n",
       "        vertical-align: middle;\n",
       "    }\n",
       "\n",
       "    .dataframe tbody tr th {\n",
       "        vertical-align: top;\n",
       "    }\n",
       "\n",
       "    .dataframe thead th {\n",
       "        text-align: right;\n",
       "    }\n",
       "</style>\n",
       "<table border=\"1\" class=\"dataframe\">\n",
       "  <thead>\n",
       "    <tr style=\"text-align: right;\">\n",
       "      <th></th>\n",
       "      <th>type</th>\n",
       "      <th>id</th>\n",
       "      <th>lat</th>\n",
       "      <th>lon</th>\n",
       "      <th>brand</th>\n",
       "      <th>shop</th>\n",
       "      <th>city</th>\n",
       "      <th>street</th>\n",
       "      <th>housenumber</th>\n",
       "      <th>postcode</th>\n",
       "      <th>opening_hours</th>\n",
       "    </tr>\n",
       "  </thead>\n",
       "  <tbody>\n",
       "    <tr>\n",
       "      <th>0</th>\n",
       "      <td>node</td>\n",
       "      <td>33126515</td>\n",
       "      <td>47.155616</td>\n",
       "      <td>9.037915</td>\n",
       "      <td>Spar</td>\n",
       "      <td>supermarket</td>\n",
       "      <td>NaN</td>\n",
       "      <td>NaN</td>\n",
       "      <td>NaN</td>\n",
       "      <td>NaN</td>\n",
       "      <td>Mo-Th 08:00-19:00; Fr 08:00-20:00; Sa 08:00-17:00</td>\n",
       "    </tr>\n",
       "    <tr>\n",
       "      <th>1</th>\n",
       "      <td>node</td>\n",
       "      <td>36726161</td>\n",
       "      <td>47.226191</td>\n",
       "      <td>8.980329</td>\n",
       "      <td>Migros</td>\n",
       "      <td>supermarket</td>\n",
       "      <td>Uznach</td>\n",
       "      <td>Zürcherstrasse</td>\n",
       "      <td>25</td>\n",
       "      <td>8730.0</td>\n",
       "      <td>Mo-Th 08:00-19:00, Fr 08:00-20:00, Sa 07:30-17...</td>\n",
       "    </tr>\n",
       "    <tr>\n",
       "      <th>2</th>\n",
       "      <td>node</td>\n",
       "      <td>39768209</td>\n",
       "      <td>47.225069</td>\n",
       "      <td>8.969981</td>\n",
       "      <td>Coop</td>\n",
       "      <td>supermarket</td>\n",
       "      <td>Uznach</td>\n",
       "      <td>NaN</td>\n",
       "      <td>NaN</td>\n",
       "      <td>8730.0</td>\n",
       "      <td>NaN</td>\n",
       "    </tr>\n",
       "    <tr>\n",
       "      <th>3</th>\n",
       "      <td>node</td>\n",
       "      <td>39947904</td>\n",
       "      <td>47.376732</td>\n",
       "      <td>8.542161</td>\n",
       "      <td>Coop</td>\n",
       "      <td>supermarket</td>\n",
       "      <td>Zürich</td>\n",
       "      <td>Bahnhofbrücke</td>\n",
       "      <td>1</td>\n",
       "      <td>8001.0</td>\n",
       "      <td>Mo-Sa 06:00-22:00</td>\n",
       "    </tr>\n",
       "    <tr>\n",
       "      <th>4</th>\n",
       "      <td>node</td>\n",
       "      <td>48932835</td>\n",
       "      <td>47.375020</td>\n",
       "      <td>8.522895</td>\n",
       "      <td>Migros</td>\n",
       "      <td>supermarket</td>\n",
       "      <td>Zürich</td>\n",
       "      <td>Wengistrasse</td>\n",
       "      <td>7</td>\n",
       "      <td>8004.0</td>\n",
       "      <td>Mo-Sa 08:00-21:00; PH off</td>\n",
       "    </tr>\n",
       "  </tbody>\n",
       "</table>\n",
       "</div>"
      ],
      "text/plain": [
       "   type        id        lat       lon   brand         shop    city  \\\n",
       "0  node  33126515  47.155616  9.037915    Spar  supermarket     NaN   \n",
       "1  node  36726161  47.226191  8.980329  Migros  supermarket  Uznach   \n",
       "2  node  39768209  47.225069  8.969981    Coop  supermarket  Uznach   \n",
       "3  node  39947904  47.376732  8.542161    Coop  supermarket  Zürich   \n",
       "4  node  48932835  47.375020  8.522895  Migros  supermarket  Zürich   \n",
       "\n",
       "           street housenumber  postcode  \\\n",
       "0             NaN         NaN       NaN   \n",
       "1  Zürcherstrasse          25    8730.0   \n",
       "2             NaN         NaN    8730.0   \n",
       "3   Bahnhofbrücke           1    8001.0   \n",
       "4    Wengistrasse           7    8004.0   \n",
       "\n",
       "                                       opening_hours  \n",
       "0  Mo-Th 08:00-19:00; Fr 08:00-20:00; Sa 08:00-17:00  \n",
       "1  Mo-Th 08:00-19:00, Fr 08:00-20:00, Sa 07:30-17...  \n",
       "2                                                NaN  \n",
       "3                                  Mo-Sa 06:00-22:00  \n",
       "4                          Mo-Sa 08:00-21:00; PH off  "
      ]
     },
     "execution_count": 16,
     "metadata": {},
     "output_type": "execute_result"
    }
   ],
   "source": [
    "df = pd.read_csv('supermarkets_data_prepared.csv',\n",
    "                  sep=',', \n",
    "                  encoding='utf-8')[['type','id','lat','lon','brand','shop','city','street','housenumber','postcode','opening_hours']]  \n",
    "print(df.shape)\n",
    "df.head(5)"
   ]
  },
  {
   "cell_type": "markdown",
   "id": "ef970dfe",
   "metadata": {},
   "source": [
    "## Write data to the SQL-table in data base"
   ]
  },
  {
   "cell_type": "code",
   "execution_count": 17,
   "id": "1c728ac7",
   "metadata": {},
   "outputs": [
    {
     "data": {
      "text/plain": [
       "3392"
      ]
     },
     "execution_count": 17,
     "metadata": {},
     "output_type": "execute_result"
    }
   ],
   "source": [
    "df.to_sql(name = 'supermarkets_table',\n",
    "          con = conn,\n",
    "          index = False,\n",
    "          if_exists = 'replace')"
   ]
  },
  {
   "cell_type": "markdown",
   "id": "4f5f1e46",
   "metadata": {},
   "source": [
    "## Additional SQL Query winterthur"
   ]
  },
  {
   "cell_type": "code",
   "execution_count": 24,
   "id": "f628e538",
   "metadata": {},
   "outputs": [
    {
     "name": "stdout",
     "output_type": "stream",
     "text": [
      "(27, 11)\n"
     ]
    },
    {
     "data": {
      "text/html": [
       "<div>\n",
       "<style scoped>\n",
       "    .dataframe tbody tr th:only-of-type {\n",
       "        vertical-align: middle;\n",
       "    }\n",
       "\n",
       "    .dataframe tbody tr th {\n",
       "        vertical-align: top;\n",
       "    }\n",
       "\n",
       "    .dataframe thead th {\n",
       "        text-align: right;\n",
       "    }\n",
       "</style>\n",
       "<table border=\"1\" class=\"dataframe\">\n",
       "  <thead>\n",
       "    <tr style=\"text-align: right;\">\n",
       "      <th></th>\n",
       "      <th>type</th>\n",
       "      <th>id</th>\n",
       "      <th>lat</th>\n",
       "      <th>lon</th>\n",
       "      <th>brand</th>\n",
       "      <th>shop</th>\n",
       "      <th>city</th>\n",
       "      <th>street</th>\n",
       "      <th>housenumber</th>\n",
       "      <th>postcode</th>\n",
       "      <th>opening_hours</th>\n",
       "    </tr>\n",
       "  </thead>\n",
       "  <tbody>\n",
       "    <tr>\n",
       "      <th>0</th>\n",
       "      <td>node</td>\n",
       "      <td>70656488</td>\n",
       "      <td>47.491874</td>\n",
       "      <td>8.706448</td>\n",
       "      <td>Migros</td>\n",
       "      <td>supermarket</td>\n",
       "      <td>Winterthur</td>\n",
       "      <td>Zürcherstrasse</td>\n",
       "      <td>102</td>\n",
       "      <td>8406.0</td>\n",
       "      <td>Mo-Fr 07:30-20:00; PH off; Sa 08:00-19:00</td>\n",
       "    </tr>\n",
       "    <tr>\n",
       "      <th>1</th>\n",
       "      <td>node</td>\n",
       "      <td>246533376</td>\n",
       "      <td>47.518953</td>\n",
       "      <td>8.720071</td>\n",
       "      <td>Migros</td>\n",
       "      <td>supermarket</td>\n",
       "      <td>Winterthur</td>\n",
       "      <td>Schaffhauserstrasse</td>\n",
       "      <td>152</td>\n",
       "      <td>8400.0</td>\n",
       "      <td>Mo-Fr 08:30-20:00, Sa 08:00-18:00; PH off</td>\n",
       "    </tr>\n",
       "    <tr>\n",
       "      <th>2</th>\n",
       "      <td>node</td>\n",
       "      <td>548919417</td>\n",
       "      <td>47.506863</td>\n",
       "      <td>8.712208</td>\n",
       "      <td>Migros</td>\n",
       "      <td>supermarket</td>\n",
       "      <td>Winterthur</td>\n",
       "      <td>Wülflingerstrasse</td>\n",
       "      <td>71</td>\n",
       "      <td>8400.0</td>\n",
       "      <td>Mo-Fr 07:30-20:00, Sa 08:00-18:00; PH off</td>\n",
       "    </tr>\n",
       "    <tr>\n",
       "      <th>3</th>\n",
       "      <td>node</td>\n",
       "      <td>677194765</td>\n",
       "      <td>47.503208</td>\n",
       "      <td>8.752131</td>\n",
       "      <td>None</td>\n",
       "      <td>supermarket</td>\n",
       "      <td>Winterthur</td>\n",
       "      <td>Frauenfelderstrasse</td>\n",
       "      <td>69</td>\n",
       "      <td>8404.0</td>\n",
       "      <td>None</td>\n",
       "    </tr>\n",
       "    <tr>\n",
       "      <th>4</th>\n",
       "      <td>node</td>\n",
       "      <td>706203439</td>\n",
       "      <td>47.500848</td>\n",
       "      <td>8.725938</td>\n",
       "      <td>None</td>\n",
       "      <td>supermarket</td>\n",
       "      <td>Winterthur</td>\n",
       "      <td>Bankstrasse</td>\n",
       "      <td>8/12</td>\n",
       "      <td>8400.0</td>\n",
       "      <td>Mo-Fr 08:30-20:00; Sa 08:00-20:00; Su,PH off</td>\n",
       "    </tr>\n",
       "  </tbody>\n",
       "</table>\n",
       "</div>"
      ],
      "text/plain": [
       "   type         id        lat       lon   brand         shop        city  \\\n",
       "0  node   70656488  47.491874  8.706448  Migros  supermarket  Winterthur   \n",
       "1  node  246533376  47.518953  8.720071  Migros  supermarket  Winterthur   \n",
       "2  node  548919417  47.506863  8.712208  Migros  supermarket  Winterthur   \n",
       "3  node  677194765  47.503208  8.752131    None  supermarket  Winterthur   \n",
       "4  node  706203439  47.500848  8.725938    None  supermarket  Winterthur   \n",
       "\n",
       "                street housenumber  postcode  \\\n",
       "0       Zürcherstrasse         102    8406.0   \n",
       "1  Schaffhauserstrasse         152    8400.0   \n",
       "2    Wülflingerstrasse          71    8400.0   \n",
       "3  Frauenfelderstrasse          69    8404.0   \n",
       "4          Bankstrasse        8/12    8400.0   \n",
       "\n",
       "                                  opening_hours  \n",
       "0     Mo-Fr 07:30-20:00; PH off; Sa 08:00-19:00  \n",
       "1     Mo-Fr 08:30-20:00, Sa 08:00-18:00; PH off  \n",
       "2     Mo-Fr 07:30-20:00, Sa 08:00-18:00; PH off  \n",
       "3                                          None  \n",
       "4  Mo-Fr 08:30-20:00; Sa 08:00-20:00; Su,PH off  "
      ]
     },
     "execution_count": 24,
     "metadata": {},
     "output_type": "execute_result"
    }
   ],
   "source": [
    "# SQL Query to filter all supermarkets in the city of Winterthur\n",
    "cursor.execute('''SELECT * FROM supermarkets_table WHERE City = 'Winterthur' ''')\n",
    "columns = ['type', 'id', 'lat', 'lon', 'brand', 'shop', 'city', 'street', 'housenumber', 'postcode', 'opening_hours']\n",
    "df = pd.DataFrame(cursor.fetchall(), columns = columns)\n",
    "print(df.shape)\n",
    "df.head(5)"
   ]
  },
  {
   "cell_type": "markdown",
   "id": "7904d668",
   "metadata": {},
   "source": [
    "## Close db connection (if open)"
   ]
  },
  {
   "cell_type": "code",
   "execution_count": 25,
   "id": "1b90d3ee",
   "metadata": {},
   "outputs": [
    {
     "name": "stdout",
     "output_type": "stream",
     "text": [
      "False\n"
     ]
    }
   ],
   "source": [
    "# Close db connection (if open)\n",
    "try:\n",
    "    if check_conn(conn):\n",
    "        conn.close()\n",
    "    else:\n",
    "        pass\n",
    "except:\n",
    "    pass\n",
    "\n",
    "# Status (True = open, False = closed)\n",
    "print(check_conn(conn))"
   ]
  },
  {
   "cell_type": "markdown",
   "id": "e847eb93",
   "metadata": {},
   "source": [
    "### Jupyter notebook --footer info-- (please always provide this at the end of each submitted notebook)"
   ]
  },
  {
   "cell_type": "code",
   "execution_count": 28,
   "id": "8e706987",
   "metadata": {},
   "outputs": [
    {
     "name": "stdout",
     "output_type": "stream",
     "text": [
      "-----------------------------------\n",
      "POSIX\n",
      "Linux | 6.5.0-1025-azure\n",
      "Datetime: 2024-10-08 13:04:26\n",
      "Python Version: 3.11.10\n",
      "-----------------------------------\n"
     ]
    }
   ],
   "source": [
    "import os\n",
    "import platform\n",
    "import socket\n",
    "from platform import python_version\n",
    "from datetime import datetime\n",
    "\n",
    "print('-----------------------------------')\n",
    "print(os.name.upper())\n",
    "print(platform.system(), '|', platform.release())\n",
    "print('Datetime:', datetime.now().strftime(\"%Y-%m-%d %H:%M:%S\"))\n",
    "print('Python Version:', python_version())\n",
    "print('-----------------------------------')"
   ]
  }
 ],
 "metadata": {
  "kernelspec": {
   "display_name": "Python 3",
   "language": "python",
   "name": "python3"
  },
  "language_info": {
   "codemirror_mode": {
    "name": "ipython",
    "version": 3
   },
   "file_extension": ".py",
   "mimetype": "text/x-python",
   "name": "python",
   "nbconvert_exporter": "python",
   "pygments_lexer": "ipython3",
   "version": "3.11.10"
  }
 },
 "nbformat": 4,
 "nbformat_minor": 5
}
